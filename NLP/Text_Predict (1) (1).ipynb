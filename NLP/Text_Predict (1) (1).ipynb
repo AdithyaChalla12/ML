{
  "cells": [
    {
      "cell_type": "markdown",
      "metadata": {
        "id": "aKJ81ZHw8CtT"
      },
      "source": [
        "##Name- CS Venkata Adithya\n",
      ]
    },
    {
      "cell_type": "code",
      "execution_count": 2,
      "metadata": {
        "id": "2mi6lvk4x9TB"
      },
      "outputs": [],
      "source": [
        "import tensorflow as tf\n",
        "from tensorflow.keras.preprocessing.text import Tokenizer\n",
        "from tensorflow.keras.layers import Embedding, LSTM, Dense\n",
        "from tensorflow.keras.models import Sequential\n",
        "from tensorflow.keras.utils import to_categorical\n",
        "from tensorflow.keras.optimizers import Adam\n",
        "import pickle\n",
        "import numpy as np\n",
        "import os"
      ]
    },
    {
      "cell_type": "code",
      "execution_count": 3,
      "metadata": {
        "colab": {
          "base_uri": "https://localhost:8080/",
          "height": 73
        },
        "id": "jIXIk3S_yA0t",
        "outputId": "c3e95b94-4c69-4e00-8094-c9e567680e51"
      },
      "outputs": [
        {
          "output_type": "display_data",
          "data": {
            "text/plain": [
              "<IPython.core.display.HTML object>"
            ],
            "text/html": [
              "\n",
              "     <input type=\"file\" id=\"files-cc00d5bc-eb2c-4b9f-9514-26e91cbfe670\" name=\"files[]\" multiple disabled\n",
              "        style=\"border:none\" />\n",
              "     <output id=\"result-cc00d5bc-eb2c-4b9f-9514-26e91cbfe670\">\n",
              "      Upload widget is only available when the cell has been executed in the\n",
              "      current browser session. Please rerun this cell to enable.\n",
              "      </output>\n",
              "      <script>// Copyright 2017 Google LLC\n",
              "//\n",
              "// Licensed under the Apache License, Version 2.0 (the \"License\");\n",
              "// you may not use this file except in compliance with the License.\n",
              "// You may obtain a copy of the License at\n",
              "//\n",
              "//      http://www.apache.org/licenses/LICENSE-2.0\n",
              "//\n",
              "// Unless required by applicable law or agreed to in writing, software\n",
              "// distributed under the License is distributed on an \"AS IS\" BASIS,\n",
              "// WITHOUT WARRANTIES OR CONDITIONS OF ANY KIND, either express or implied.\n",
              "// See the License for the specific language governing permissions and\n",
              "// limitations under the License.\n",
              "\n",
              "/**\n",
              " * @fileoverview Helpers for google.colab Python module.\n",
              " */\n",
              "(function(scope) {\n",
              "function span(text, styleAttributes = {}) {\n",
              "  const element = document.createElement('span');\n",
              "  element.textContent = text;\n",
              "  for (const key of Object.keys(styleAttributes)) {\n",
              "    element.style[key] = styleAttributes[key];\n",
              "  }\n",
              "  return element;\n",
              "}\n",
              "\n",
              "// Max number of bytes which will be uploaded at a time.\n",
              "const MAX_PAYLOAD_SIZE = 100 * 1024;\n",
              "\n",
              "function _uploadFiles(inputId, outputId) {\n",
              "  const steps = uploadFilesStep(inputId, outputId);\n",
              "  const outputElement = document.getElementById(outputId);\n",
              "  // Cache steps on the outputElement to make it available for the next call\n",
              "  // to uploadFilesContinue from Python.\n",
              "  outputElement.steps = steps;\n",
              "\n",
              "  return _uploadFilesContinue(outputId);\n",
              "}\n",
              "\n",
              "// This is roughly an async generator (not supported in the browser yet),\n",
              "// where there are multiple asynchronous steps and the Python side is going\n",
              "// to poll for completion of each step.\n",
              "// This uses a Promise to block the python side on completion of each step,\n",
              "// then passes the result of the previous step as the input to the next step.\n",
              "function _uploadFilesContinue(outputId) {\n",
              "  const outputElement = document.getElementById(outputId);\n",
              "  const steps = outputElement.steps;\n",
              "\n",
              "  const next = steps.next(outputElement.lastPromiseValue);\n",
              "  return Promise.resolve(next.value.promise).then((value) => {\n",
              "    // Cache the last promise value to make it available to the next\n",
              "    // step of the generator.\n",
              "    outputElement.lastPromiseValue = value;\n",
              "    return next.value.response;\n",
              "  });\n",
              "}\n",
              "\n",
              "/**\n",
              " * Generator function which is called between each async step of the upload\n",
              " * process.\n",
              " * @param {string} inputId Element ID of the input file picker element.\n",
              " * @param {string} outputId Element ID of the output display.\n",
              " * @return {!Iterable<!Object>} Iterable of next steps.\n",
              " */\n",
              "function* uploadFilesStep(inputId, outputId) {\n",
              "  const inputElement = document.getElementById(inputId);\n",
              "  inputElement.disabled = false;\n",
              "\n",
              "  const outputElement = document.getElementById(outputId);\n",
              "  outputElement.innerHTML = '';\n",
              "\n",
              "  const pickedPromise = new Promise((resolve) => {\n",
              "    inputElement.addEventListener('change', (e) => {\n",
              "      resolve(e.target.files);\n",
              "    });\n",
              "  });\n",
              "\n",
              "  const cancel = document.createElement('button');\n",
              "  inputElement.parentElement.appendChild(cancel);\n",
              "  cancel.textContent = 'Cancel upload';\n",
              "  const cancelPromise = new Promise((resolve) => {\n",
              "    cancel.onclick = () => {\n",
              "      resolve(null);\n",
              "    };\n",
              "  });\n",
              "\n",
              "  // Wait for the user to pick the files.\n",
              "  const files = yield {\n",
              "    promise: Promise.race([pickedPromise, cancelPromise]),\n",
              "    response: {\n",
              "      action: 'starting',\n",
              "    }\n",
              "  };\n",
              "\n",
              "  cancel.remove();\n",
              "\n",
              "  // Disable the input element since further picks are not allowed.\n",
              "  inputElement.disabled = true;\n",
              "\n",
              "  if (!files) {\n",
              "    return {\n",
              "      response: {\n",
              "        action: 'complete',\n",
              "      }\n",
              "    };\n",
              "  }\n",
              "\n",
              "  for (const file of files) {\n",
              "    const li = document.createElement('li');\n",
              "    li.append(span(file.name, {fontWeight: 'bold'}));\n",
              "    li.append(span(\n",
              "        `(${file.type || 'n/a'}) - ${file.size} bytes, ` +\n",
              "        `last modified: ${\n",
              "            file.lastModifiedDate ? file.lastModifiedDate.toLocaleDateString() :\n",
              "                                    'n/a'} - `));\n",
              "    const percent = span('0% done');\n",
              "    li.appendChild(percent);\n",
              "\n",
              "    outputElement.appendChild(li);\n",
              "\n",
              "    const fileDataPromise = new Promise((resolve) => {\n",
              "      const reader = new FileReader();\n",
              "      reader.onload = (e) => {\n",
              "        resolve(e.target.result);\n",
              "      };\n",
              "      reader.readAsArrayBuffer(file);\n",
              "    });\n",
              "    // Wait for the data to be ready.\n",
              "    let fileData = yield {\n",
              "      promise: fileDataPromise,\n",
              "      response: {\n",
              "        action: 'continue',\n",
              "      }\n",
              "    };\n",
              "\n",
              "    // Use a chunked sending to avoid message size limits. See b/62115660.\n",
              "    let position = 0;\n",
              "    do {\n",
              "      const length = Math.min(fileData.byteLength - position, MAX_PAYLOAD_SIZE);\n",
              "      const chunk = new Uint8Array(fileData, position, length);\n",
              "      position += length;\n",
              "\n",
              "      const base64 = btoa(String.fromCharCode.apply(null, chunk));\n",
              "      yield {\n",
              "        response: {\n",
              "          action: 'append',\n",
              "          file: file.name,\n",
              "          data: base64,\n",
              "        },\n",
              "      };\n",
              "\n",
              "      let percentDone = fileData.byteLength === 0 ?\n",
              "          100 :\n",
              "          Math.round((position / fileData.byteLength) * 100);\n",
              "      percent.textContent = `${percentDone}% done`;\n",
              "\n",
              "    } while (position < fileData.byteLength);\n",
              "  }\n",
              "\n",
              "  // All done.\n",
              "  yield {\n",
              "    response: {\n",
              "      action: 'complete',\n",
              "    }\n",
              "  };\n",
              "}\n",
              "\n",
              "scope.google = scope.google || {};\n",
              "scope.google.colab = scope.google.colab || {};\n",
              "scope.google.colab._files = {\n",
              "  _uploadFiles,\n",
              "  _uploadFilesContinue,\n",
              "};\n",
              "})(self);\n",
              "</script> "
            ]
          },
          "metadata": {}
        },
        {
          "output_type": "stream",
          "name": "stdout",
          "text": [
            "Saving franklin.txt to franklin (1).txt\n"
          ]
        }
      ],
      "source": [
        "from google.colab import files\n",
        "uploaded = files.upload()"
      ]
    },
    {
      "cell_type": "code",
      "execution_count": 4,
      "metadata": {
        "colab": {
          "base_uri": "https://localhost:8080/",
          "height": 104
        },
        "id": "AQySq23myGCB",
        "outputId": "f69f0fa3-bf43-47dc-bb46-f37c4e4c8333"
      },
      "outputs": [
        {
          "output_type": "execute_result",
          "data": {
            "text/plain": [
              "\"Project Gutenberg's Autobiography of Benjamin Franklin, by Benjamin Franklin This eBook is for the use of anyone anywhere at no cost and with almost no restrictions whatsoever. You may copy it, give it away or re-use it under the terms of the Project Gutenberg License included with this eBook or online at www.gutenberg.org Title: Autobiography of Benjamin Franklin Author: Benjamin Franklin Editor: Frank Woodworth Pine Illustrator: E. Boyd Smith Release Date: December 28, 2006 [EBook #20203] [Las\""
            ],
            "application/vnd.google.colaboratory.intrinsic+json": {
              "type": "string"
            }
          },
          "metadata": {},
          "execution_count": 4
        }
      ],
      "source": [
        "file = open(\"franklin.txt\", \"r\", encoding = \"utf8\")\n",
        "\n",
        "# store file in list\n",
        "lines = []\n",
        "for i in file:\n",
        "    lines.append(i)\n",
        "\n",
        "# Convert list to string\n",
        "data = \"\"\n",
        "for i in lines:\n",
        "  data = ' '. join(lines) \n",
        "\n",
        "#replace unnecessary stuff with space\n",
        "data = data.replace('\\n', '').replace('\\r', '').replace('\\ufeff', '').replace('“','').replace('”','')  #new line, carriage return, unicode character --> replace by space\n",
        "\n",
        "#remove unnecessary spaces \n",
        "data = data.split()\n",
        "data = ' '.join(data)\n",
        "data[:500]"
      ]
    },
    {
      "cell_type": "code",
      "execution_count": 5,
      "metadata": {
        "colab": {
          "base_uri": "https://localhost:8080/"
        },
        "id": "RUaYVGpTyWJa",
        "outputId": "5153d4ed-ef98-43d3-877d-385c0d8e92f3"
      },
      "outputs": [
        {
          "output_type": "execute_result",
          "data": {
            "text/plain": [
              "451189"
            ]
          },
          "metadata": {},
          "execution_count": 5
        }
      ],
      "source": [
        "len(data)"
      ]
    },
    {
      "cell_type": "code",
      "execution_count": 6,
      "metadata": {
        "colab": {
          "base_uri": "https://localhost:8080/"
        },
        "id": "ivzNcmspycM1",
        "outputId": "bcef0362-fa42-46eb-c6c9-3311e01bce04"
      },
      "outputs": [
        {
          "output_type": "execute_result",
          "data": {
            "text/plain": [
              "[84, 4543, 238, 2, 335, 87, 19, 335, 87, 26, 843, 40, 12, 1, 138]"
            ]
          },
          "metadata": {},
          "execution_count": 6
        }
      ],
      "source": [
        "tokenizer = Tokenizer()\n",
        "tokenizer.fit_on_texts([data])\n",
        "\n",
        "# saving the tokenizer for predict function\n",
        "pickle.dump(tokenizer, open('token.pkl', 'wb'))\n",
        "\n",
        "sequence_data = tokenizer.texts_to_sequences([data])[0]\n",
        "sequence_data[:15]"
      ]
    },
    {
      "cell_type": "code",
      "execution_count": 7,
      "metadata": {
        "colab": {
          "base_uri": "https://localhost:8080/"
        },
        "id": "XAdtkEwNyiGh",
        "outputId": "a33d50c4-e62b-48d0-b8eb-dbdfdba3f93e"
      },
      "outputs": [
        {
          "output_type": "execute_result",
          "data": {
            "text/plain": [
              "79803"
            ]
          },
          "metadata": {},
          "execution_count": 7
        }
      ],
      "source": [
        "len(sequence_data)"
      ]
    },
    {
      "cell_type": "code",
      "execution_count": 8,
      "metadata": {
        "colab": {
          "base_uri": "https://localhost:8080/"
        },
        "id": "WalOlkfhynX2",
        "outputId": "a798ca15-56d9-47c1-e6f8-3740046f5d41"
      },
      "outputs": [
        {
          "output_type": "stream",
          "name": "stdout",
          "text": [
            "8307\n"
          ]
        }
      ],
      "source": [
        "vocab_size = len(tokenizer.word_index) + 1\n",
        "print(vocab_size)"
      ]
    },
    {
      "cell_type": "code",
      "execution_count": 9,
      "metadata": {
        "colab": {
          "base_uri": "https://localhost:8080/"
        },
        "id": "9NL7mKjdyrtI",
        "outputId": "1769e7f9-3b2b-49d2-c481-1604cc3e7d45"
      },
      "outputs": [
        {
          "output_type": "stream",
          "name": "stdout",
          "text": [
            "The Length of sequences are:  79800\n"
          ]
        },
        {
          "output_type": "execute_result",
          "data": {
            "text/plain": [
              "array([[  84, 4543,  238,    2],\n",
              "       [4543,  238,    2,  335],\n",
              "       [ 238,    2,  335,   87],\n",
              "       [   2,  335,   87,   19],\n",
              "       [ 335,   87,   19,  335],\n",
              "       [  87,   19,  335,   87],\n",
              "       [  19,  335,   87,   26],\n",
              "       [ 335,   87,   26,  843],\n",
              "       [  87,   26,  843,   40],\n",
              "       [  26,  843,   40,   12]])"
            ]
          },
          "metadata": {},
          "execution_count": 9
        }
      ],
      "source": [
        "sequences = []\n",
        "\n",
        "for i in range(3, len(sequence_data)):\n",
        "    words = sequence_data[i-3:i+1]\n",
        "    sequences.append(words)\n",
        "    \n",
        "print(\"The Length of sequences are: \", len(sequences))\n",
        "sequences = np.array(sequences)\n",
        "sequences[:10]"
      ]
    },
    {
      "cell_type": "code",
      "execution_count": 10,
      "metadata": {
        "id": "IlNDYPoUyxcd"
      },
      "outputs": [],
      "source": [
        "X = []\n",
        "y = []\n",
        "\n",
        "for i in sequences:\n",
        "    X.append(i[0:3])\n",
        "    y.append(i[3])\n",
        "    \n",
        "X = np.array(X)\n",
        "y = np.array(y)"
      ]
    },
    {
      "cell_type": "code",
      "execution_count": 11,
      "metadata": {
        "colab": {
          "base_uri": "https://localhost:8080/"
        },
        "id": "tsYN_p6cy3FF",
        "outputId": "2ecf6b5d-7308-4703-b093-53ac56d27288"
      },
      "outputs": [
        {
          "output_type": "stream",
          "name": "stdout",
          "text": [
            "Data:  [[  84 4543  238]\n",
            " [4543  238    2]\n",
            " [ 238    2  335]\n",
            " [   2  335   87]\n",
            " [ 335   87   19]\n",
            " [  87   19  335]\n",
            " [  19  335   87]\n",
            " [ 335   87   26]\n",
            " [  87   26  843]\n",
            " [  26  843   40]]\n",
            "Response:  [  2 335  87  19 335  87  26 843  40  12]\n"
          ]
        }
      ],
      "source": [
        "print(\"Data: \", X[:10])\n",
        "print(\"Response: \", y[:10])"
      ]
    },
    {
      "cell_type": "code",
      "execution_count": 12,
      "metadata": {
        "colab": {
          "base_uri": "https://localhost:8080/"
        },
        "id": "PmuHZ579y8gi",
        "outputId": "727de4a1-74c0-4cd2-922e-b7b083d6d8df"
      },
      "outputs": [
        {
          "output_type": "execute_result",
          "data": {
            "text/plain": [
              "array([[0., 0., 1., ..., 0., 0., 0.],\n",
              "       [0., 0., 0., ..., 0., 0., 0.],\n",
              "       [0., 0., 0., ..., 0., 0., 0.],\n",
              "       [0., 0., 0., ..., 0., 0., 0.],\n",
              "       [0., 0., 0., ..., 0., 0., 0.]], dtype=float32)"
            ]
          },
          "metadata": {},
          "execution_count": 12
        }
      ],
      "source": [
        "y = to_categorical(y, num_classes=vocab_size)\n",
        "y[:5]"
      ]
    },
    {
      "cell_type": "code",
      "execution_count": 13,
      "metadata": {
        "id": "Brd3TzxqzCfy"
      },
      "outputs": [],
      "source": [
        "model = Sequential()\n",
        "model.add(Embedding(vocab_size, 10, input_length=3))\n",
        "model.add(LSTM(1000, return_sequences=True))\n",
        "model.add(LSTM(1000))\n",
        "model.add(Dense(1000, activation=\"relu\"))\n",
        "model.add(Dense(vocab_size, activation=\"softmax\"))"
      ]
    },
    {
      "cell_type": "code",
      "execution_count": 14,
      "metadata": {
        "colab": {
          "base_uri": "https://localhost:8080/"
        },
        "id": "s3zUsvgTzTB6",
        "outputId": "0ca8cb8e-72c1-431c-d943-24ccdfbdab0b"
      },
      "outputs": [
        {
          "output_type": "stream",
          "name": "stdout",
          "text": [
            "Epoch 1/70\n",
            "1247/1247 [==============================] - 28s 17ms/step - loss: 6.7106 - accuracy: 0.0600\n",
            "Epoch 2/70\n",
            "1247/1247 [==============================] - 21s 17ms/step - loss: 6.2183 - accuracy: 0.0898\n",
            "Epoch 3/70\n",
            "1247/1247 [==============================] - 22s 18ms/step - loss: 5.8917 - accuracy: 0.1088\n",
            "Epoch 4/70\n",
            "1247/1247 [==============================] - 21s 17ms/step - loss: 5.6160 - accuracy: 0.1232\n",
            "Epoch 5/70\n",
            "1247/1247 [==============================] - 21s 17ms/step - loss: 5.3777 - accuracy: 0.1343\n",
            "Epoch 6/70\n",
            "1247/1247 [==============================] - 21s 17ms/step - loss: 5.1583 - accuracy: 0.1440\n",
            "Epoch 7/70\n",
            "1247/1247 [==============================] - 21s 17ms/step - loss: 4.9278 - accuracy: 0.1544\n",
            "Epoch 8/70\n",
            "1247/1247 [==============================] - 21s 17ms/step - loss: 4.6739 - accuracy: 0.1631\n",
            "Epoch 9/70\n",
            "1247/1247 [==============================] - 21s 17ms/step - loss: 4.3993 - accuracy: 0.1746\n",
            "Epoch 10/70\n",
            "1247/1247 [==============================] - 21s 17ms/step - loss: 4.1118 - accuracy: 0.1920\n",
            "Epoch 11/70\n",
            "1247/1247 [==============================] - 21s 17ms/step - loss: 3.8216 - accuracy: 0.2201\n",
            "Epoch 12/70\n",
            "1247/1247 [==============================] - 21s 17ms/step - loss: 3.5399 - accuracy: 0.2526\n",
            "Epoch 13/70\n",
            "1247/1247 [==============================] - 21s 17ms/step - loss: 3.2689 - accuracy: 0.2893\n",
            "Epoch 14/70\n",
            "1247/1247 [==============================] - 21s 17ms/step - loss: 3.0095 - accuracy: 0.3262\n",
            "Epoch 15/70\n",
            "1247/1247 [==============================] - 21s 17ms/step - loss: 2.7627 - accuracy: 0.3662\n",
            "Epoch 16/70\n",
            "1247/1247 [==============================] - 22s 17ms/step - loss: 2.5305 - accuracy: 0.4054\n",
            "Epoch 17/70\n",
            "1247/1247 [==============================] - 22s 18ms/step - loss: 2.2998 - accuracy: 0.4482\n",
            "Epoch 18/70\n",
            "1247/1247 [==============================] - 21s 17ms/step - loss: 2.0843 - accuracy: 0.4909\n",
            "Epoch 19/70\n",
            "1247/1247 [==============================] - 21s 17ms/step - loss: 1.8751 - accuracy: 0.5329\n",
            "Epoch 20/70\n",
            "1247/1247 [==============================] - 21s 17ms/step - loss: 1.6789 - accuracy: 0.5746\n",
            "Epoch 21/70\n",
            "1247/1247 [==============================] - 22s 17ms/step - loss: 1.4906 - accuracy: 0.6164\n",
            "Epoch 22/70\n",
            "1247/1247 [==============================] - 22s 17ms/step - loss: 1.3190 - accuracy: 0.6576\n",
            "Epoch 23/70\n",
            "1247/1247 [==============================] - 21s 17ms/step - loss: 1.1652 - accuracy: 0.6946\n",
            "Epoch 24/70\n",
            "1247/1247 [==============================] - 22s 17ms/step - loss: 1.0371 - accuracy: 0.7270\n",
            "Epoch 25/70\n",
            "1247/1247 [==============================] - 22s 17ms/step - loss: 0.9209 - accuracy: 0.7568\n",
            "Epoch 26/70\n",
            "1247/1247 [==============================] - 22s 17ms/step - loss: 0.8269 - accuracy: 0.7801\n",
            "Epoch 27/70\n",
            "1247/1247 [==============================] - 21s 17ms/step - loss: 0.7469 - accuracy: 0.8021\n",
            "Epoch 28/70\n",
            "1247/1247 [==============================] - 21s 17ms/step - loss: 0.6874 - accuracy: 0.8186\n",
            "Epoch 29/70\n",
            "1247/1247 [==============================] - 22s 18ms/step - loss: 0.6343 - accuracy: 0.8311\n",
            "Epoch 30/70\n",
            "1247/1247 [==============================] - 22s 18ms/step - loss: 0.5910 - accuracy: 0.8427\n",
            "Epoch 31/70\n",
            "1247/1247 [==============================] - 22s 18ms/step - loss: 0.5551 - accuracy: 0.8517\n",
            "Epoch 32/70\n",
            "1247/1247 [==============================] - 22s 18ms/step - loss: 0.5296 - accuracy: 0.8579\n",
            "Epoch 33/70\n",
            "1247/1247 [==============================] - 22s 18ms/step - loss: 0.5065 - accuracy: 0.8628\n",
            "Epoch 34/70\n",
            "1247/1247 [==============================] - 22s 18ms/step - loss: 0.4869 - accuracy: 0.8662\n",
            "Epoch 35/70\n",
            "1247/1247 [==============================] - 22s 18ms/step - loss: 0.4676 - accuracy: 0.8693\n",
            "Epoch 36/70\n",
            "1247/1247 [==============================] - 22s 17ms/step - loss: 0.4494 - accuracy: 0.8730\n",
            "Epoch 37/70\n",
            "1247/1247 [==============================] - 22s 17ms/step - loss: 0.4395 - accuracy: 0.8748\n",
            "Epoch 38/70\n",
            "1247/1247 [==============================] - 22s 17ms/step - loss: 0.4253 - accuracy: 0.8770\n",
            "Epoch 39/70\n",
            "1247/1247 [==============================] - 22s 18ms/step - loss: 0.4173 - accuracy: 0.8787\n",
            "Epoch 40/70\n",
            "1247/1247 [==============================] - 22s 18ms/step - loss: 0.3969 - accuracy: 0.8819\n",
            "Epoch 41/70\n",
            "1247/1247 [==============================] - 22s 18ms/step - loss: 0.3940 - accuracy: 0.8827\n",
            "Epoch 42/70\n",
            "1247/1247 [==============================] - 22s 17ms/step - loss: 0.3894 - accuracy: 0.8815\n",
            "Epoch 43/70\n",
            "1247/1247 [==============================] - 22s 18ms/step - loss: 0.3853 - accuracy: 0.8817\n",
            "Epoch 44/70\n",
            "1247/1247 [==============================] - 22s 17ms/step - loss: 0.3655 - accuracy: 0.8849\n",
            "Epoch 45/70\n",
            "1247/1247 [==============================] - 22s 18ms/step - loss: 0.3584 - accuracy: 0.8868\n",
            "Epoch 46/70\n",
            "1247/1247 [==============================] - 22s 17ms/step - loss: 0.3586 - accuracy: 0.8853\n",
            "Epoch 47/70\n",
            "1247/1247 [==============================] - 22s 17ms/step - loss: 0.3563 - accuracy: 0.8841\n",
            "Epoch 48/70\n",
            "1247/1247 [==============================] - 22s 17ms/step - loss: 0.3437 - accuracy: 0.8866\n",
            "Epoch 49/70\n",
            "1247/1247 [==============================] - 22s 17ms/step - loss: 0.3404 - accuracy: 0.8870\n",
            "Epoch 50/70\n",
            "1247/1247 [==============================] - 22s 17ms/step - loss: 0.3338 - accuracy: 0.8877\n",
            "Epoch 51/70\n",
            "1247/1247 [==============================] - 22s 17ms/step - loss: 0.3289 - accuracy: 0.8881\n",
            "Epoch 52/70\n",
            "1247/1247 [==============================] - 22s 17ms/step - loss: 0.3254 - accuracy: 0.8878\n",
            "Epoch 53/70\n",
            "1247/1247 [==============================] - 22s 18ms/step - loss: 0.3228 - accuracy: 0.8879\n",
            "Epoch 54/70\n",
            "1247/1247 [==============================] - 22s 18ms/step - loss: 0.3194 - accuracy: 0.8875\n",
            "Epoch 55/70\n",
            "1247/1247 [==============================] - 22s 18ms/step - loss: 0.3175 - accuracy: 0.8885\n",
            "Epoch 56/70\n",
            "1247/1247 [==============================] - 22s 18ms/step - loss: 0.3092 - accuracy: 0.8892\n",
            "Epoch 57/70\n",
            "1247/1247 [==============================] - 22s 17ms/step - loss: 0.3031 - accuracy: 0.8906\n",
            "Epoch 58/70\n",
            "1247/1247 [==============================] - 22s 18ms/step - loss: 0.3063 - accuracy: 0.8899\n",
            "Epoch 59/70\n",
            "1247/1247 [==============================] - 22s 17ms/step - loss: 0.3041 - accuracy: 0.8888\n",
            "Epoch 60/70\n",
            "1247/1247 [==============================] - 22s 18ms/step - loss: 0.2931 - accuracy: 0.8904\n",
            "Epoch 61/70\n",
            "1247/1247 [==============================] - 22s 18ms/step - loss: 0.2998 - accuracy: 0.8888\n",
            "Epoch 62/70\n",
            "1247/1247 [==============================] - 22s 18ms/step - loss: 0.2947 - accuracy: 0.8897\n",
            "Epoch 63/70\n",
            "1247/1247 [==============================] - 22s 18ms/step - loss: 0.2816 - accuracy: 0.8916\n",
            "Epoch 64/70\n",
            "1247/1247 [==============================] - 22s 18ms/step - loss: 0.2818 - accuracy: 0.8921\n",
            "Epoch 65/70\n",
            "1247/1247 [==============================] - 22s 17ms/step - loss: 0.2857 - accuracy: 0.8910\n",
            "Epoch 66/70\n",
            "1247/1247 [==============================] - 22s 18ms/step - loss: 0.2850 - accuracy: 0.8906\n",
            "Epoch 67/70\n",
            "1247/1247 [==============================] - 22s 18ms/step - loss: 0.2787 - accuracy: 0.8907\n",
            "Epoch 68/70\n",
            "1247/1247 [==============================] - 22s 18ms/step - loss: 0.2720 - accuracy: 0.8922\n",
            "Epoch 69/70\n",
            "1247/1247 [==============================] - 22s 18ms/step - loss: 0.2786 - accuracy: 0.8905\n",
            "Epoch 70/70\n",
            "1247/1247 [==============================] - 22s 17ms/step - loss: 0.2778 - accuracy: 0.8895\n"
          ]
        },
        {
          "output_type": "execute_result",
          "data": {
            "text/plain": [
              "<keras.callbacks.History at 0x7f4d9a233750>"
            ]
          },
          "metadata": {},
          "execution_count": 14
        }
      ],
      "source": [
        "model.compile(loss=\"categorical_crossentropy\",metrics=['accuracy'], optimizer=Adam(learning_rate=0.001))\n",
        "model.fit(X, y, epochs=70, batch_size=64)"
      ]
    },
    {
      "cell_type": "code",
      "source": [
        "model.save('next_words.h5')"
      ],
      "metadata": {
        "id": "XyCYBjDeClkF"
      },
      "execution_count": 15,
      "outputs": []
    },
    {
      "cell_type": "code",
      "execution_count": 16,
      "metadata": {
        "id": "lHdN_Te0565X"
      },
      "outputs": [],
      "source": [
        "from tensorflow.keras.models import load_model\n",
        "import numpy as np\n",
        "import pickle\n",
        "\n",
        "# Load the model and tokenizer\n",
        "model = load_model('next_words.h5')\n",
        "tokenizer = pickle.load(open('token.pkl', 'rb'))\n",
        "\n",
        "def Predict_Next_Words(model, tokenizer, text):\n",
        "\n",
        "  sequence = tokenizer.texts_to_sequences([text])\n",
        "  sequence = np.array(sequence)\n",
        "  preds = np.argmax(model.predict(sequence))\n",
        "  predicted_word = \"\"\n",
        "  \n",
        "  for key, value in tokenizer.word_index.items():\n",
        "      if value == preds:\n",
        "          predicted_word = key\n",
        "          break\n",
        "  \n",
        "  print(predicted_word)\n",
        "  return predicted_word"
      ]
    },
    {
      "cell_type": "code",
      "execution_count": 19,
      "metadata": {
        "colab": {
          "base_uri": "https://localhost:8080/"
        },
        "id": "Jv86bNpO6B8a",
        "outputId": "aec9b531-9f0f-4f17-a19e-9723e6638158"
      },
      "outputs": [
        {
          "output_type": "stream",
          "name": "stdout",
          "text": [
            "Enter your line: Project Gutenberg's\n",
            "['Project', \"Gutenberg's\"]\n",
            "1/1 [==============================] - 0s 19ms/step\n",
            "to\n",
            "Enter your line: Project Gutenberg's Autobiography\n",
            "['Project', \"Gutenberg's\", 'Autobiography']\n",
            "1/1 [==============================] - 0s 17ms/step\n",
            "of\n",
            "Enter your line: This eBook is for the use of anyone\n",
            "['use', 'of', 'anyone']\n",
            "1/1 [==============================] - 0s 19ms/step\n",
            "anywhere\n",
            "Enter your line: Produced by Turgut Dincer,\n",
            "['by', 'Turgut', 'Dincer,']\n",
            "1/1 [==============================] - 0s 16ms/step\n",
            "and\n",
            "Enter your line: In the simplicity and\n",
            "['the', 'simplicity', 'and']\n",
            "1/1 [==============================] - 0s 20ms/step\n",
            "vigor\n",
            "Enter your line: 0\n",
            "Execution completed.....\n"
          ]
        }
      ],
      "source": [
        "while(True):\n",
        "  text = input(\"Enter your line: \")\n",
        "  \n",
        "  if text == \"0\":\n",
        "      print(\"Execution completed.....\")\n",
        "      break\n",
        "  \n",
        "  else:\n",
        "      try:\n",
        "          text = text.split(\" \")\n",
        "          text = text[-3:]\n",
        "          print(text)\n",
        "        \n",
        "          Predict_Next_Words(model, tokenizer, text)\n",
        "          \n",
        "      except Exception as e:\n",
        "        print(\"Error occurred: \",e)\n",
        "        continue"
      ]
    }
  ],
  "metadata": {
    "accelerator": "GPU",
    "colab": {
      "collapsed_sections": [],
      "provenance": []
    },
    "gpuClass": "standard",
    "kernelspec": {
      "display_name": "Python 3",
      "name": "python3"
    },
    "language_info": {
      "name": "python"
    }
  },
  "nbformat": 4,
  "nbformat_minor": 0
}
